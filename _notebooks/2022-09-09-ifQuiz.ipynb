{
 "cells": [
  {
   "cell_type": "markdown",
   "metadata": {},
   "source": []
  },
  {
   "cell_type": "markdown",
   "metadata": {},
   "source": [
    "# Quiz\n",
    "toc: false\n",
    "layout: post\n",
    "catagories: [PBL]\n",
    "title: Quiz"
   ]
  },
  {
   "cell_type": "code",
   "execution_count": 34,
   "metadata": {},
   "outputs": [
    {
     "name": "stdout",
     "output_type": "stream",
     "text": [
      "Are you ready to start the quiz?\n",
      "Question 1: Would the following result in true or false\n",
      "(true)\n",
      "Congrats you got it right\n"
     ]
    }
   ],
   "source": [
    "public class quiz {\n",
    "    public static void main(String[] args){\n",
    "        Scanner input;\n",
    "        String no = \"2\";\n",
    "        String yes = \"1\";\n",
    "        int begin = 0; \n",
    "        input =  new Scanner(System.in);\n",
    "        System.out.println(\"Are you ready to start the quiz?\");\n",
    "        try {\n",
    "            String startQuiz = input.nextLine();\n",
    "            if (startQuiz == \"yes\"){\n",
    "                System.out.println(\"ok lets start\");\n",
    "            } \n",
    "            if (startQuiz == \"no\"){\n",
    "                System.out.println(\"too bad\");\n",
    "            } \n",
    "        } catch (Exception e) {  \n",
    "            System.out.println(\"idk how you messed this up\" + e);\n",
    "        }\n",
    "\n",
    "        input =  new Scanner(System.in);\n",
    "        System.out.println(\"Question 1: Would the following result in true or false\");\n",
    "        System.out.println(\"(true)\");\n",
    "        try {\n",
    "            boolean a = input.nextBoolean();\n",
    "            if (a = true) {\n",
    "                System.out.println(\"Congrats you got it right\");\n",
    "            } else {\n",
    "                System.out.println(\"Sorry you got it wrong\");\n",
    "            }\n",
    "        } catch (Exception e) {  \n",
    "            System.out.println(\"idk how you messed this up\" + e);\n",
    "        }\n",
    "        \n",
    "\n",
    "    }\n",
    "\n",
    "}\n",
    "quiz.main(null)"
   ]
  },
  {
   "cell_type": "code",
   "execution_count": 18,
   "metadata": {},
   "outputs": [
    {
     "ename": "CompilationException",
     "evalue": "",
     "output_type": "error",
     "traceback": [
      "\u001b[1m\u001b[30m|   \u001b[1m\u001b[30mif ((a = 1)\u001b[0m\u001b[1m\u001b[30m\u001b[41m\u001b[0m\u001b[1m\u001b[30mtrue){\u001b[0m",
      "\u001b[1m\u001b[31m')' expected\u001b[0m",
      "",
      "\u001b[1m\u001b[30m|   \u001b[1m\u001b[30mif ((a = 1)true\u001b[0m\u001b[1m\u001b[30m\u001b[41m\u001b[0m\u001b[1m\u001b[30m){\u001b[0m",
      "\u001b[1m\u001b[31m';' expected\u001b[0m",
      ""
     ]
    }
   ],
   "source": []
  }
 ],
 "metadata": {
  "kernelspec": {
   "display_name": "Java",
   "language": "java",
   "name": "java"
  },
  "language_info": {
   "codemirror_mode": "java",
   "file_extension": ".jshell",
   "mimetype": "text/x-java-source",
   "name": "java",
   "pygments_lexer": "java",
   "version": "11.0.16+8-post-Ubuntu-0ubuntu120.04"
  },
  "orig_nbformat": 4
 },
 "nbformat": 4,
 "nbformat_minor": 2
}
