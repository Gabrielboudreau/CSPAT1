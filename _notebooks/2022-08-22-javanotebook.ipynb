{
 "cells": [
  {
   "cell_type": "markdown",
   "metadata": {},
   "source": [
    "# Java Notebook\n",
    "toc: false\n",
    "layout: post\n",
    "description: Record of Java projects\n",
    "categories: [markdown]\n",
    "title: Java Notebook"
   ]
  },
  {
   "cell_type": "code",
   "execution_count": 7,
   "metadata": {
    "vscode": {
     "languageId": "java"
    }
   },
   "outputs": [
    {
     "name": "stdout",
     "output_type": "stream",
     "text": [
      "1.0\n",
      "1.002985\n",
      "19.92457\n",
      "0.84485\n",
      "136.45\n"
     ]
    }
   ],
   "source": [
    "public class Converter {\n",
    "    public static void main(String[] args) {\n",
    "        double dollar = 1.0;\n",
    "        double euro = 1.002985;\n",
    "        double peso = 19.92457;\n",
    "        double pound = 0.84485;\n",
    "        double yen = 136.45;\n",
    "        System.out.println(dollar);\n",
    "        System.out.println(euro);\n",
    "        System.out.println(peso);\n",
    "        System.out.println(pound);\n",
    "        System.out.println(yen);\n",
    "    }    \n",
    "}\n",
    "Converter.main(null);"
   ]
  },
  {
   "cell_type": "code",
   "execution_count": 20,
   "metadata": {
    "vscode": {
     "languageId": "java"
    }
   },
   "outputs": [
    {
     "name": "stdout",
     "output_type": "stream",
     "text": [
      "What is your name? Hello gabe. Welcome to our currency converter.\n",
      "How many conversions would you like to make today? "
     ]
    }
   ],
   "source": [
    "import java.util.Scanner;\n",
    "\n",
    "public class Converter {\n",
    "    public static void main(String[] args) {\n",
    "        Scanner input;\n",
    "        double dollar = 1.0;\n",
    "        double euro = 1.002985;\n",
    "        double peso = 19.92457;\n",
    "        double pound = 0.84485;\n",
    "        double yen = 136.45;\n",
    "        int amountOfConversions = 0;\n",
    "        \n",
    "        input =  new Scanner(System.in);\n",
    "        System.out.print(\"What is your name? \");\n",
    "        try {\n",
    "            String name = input.nextLine();\n",
    "            System.out.println( \"Hello \" + name + \". Welcome to our currency converter.\");\n",
    "        } catch (Exception e) { // this may never happen\n",
    "            System.out.println(e + \" is not a name.\");\n",
    "        }\n",
    "        input.close();\n",
    "        \n",
    "        input = new Scanner(System.in);\n",
    "        System.out.print(\"How many conversions would you like to make today? \");\n",
    "        try {\n",
    "            amountOfConversions = input.nextInt();\n",
    "        } catch (Exception e) {  // if not an integer\n",
    "            System.out.println(\"Please enter a whole number\" + e);\n",
    "        }\n",
    "        input.close();\n",
    "\n",
    "    }    \n",
    "}\n",
    "Converter.main(null);"
   ]
  }
 ],
 "metadata": {
  "kernelspec": {
   "display_name": "Java",
   "language": "java",
   "name": "java"
  },
  "language_info": {
   "codemirror_mode": "java",
   "file_extension": ".jshell",
   "mimetype": "text/x-java-source",
   "name": "Java",
   "pygments_lexer": "java",
   "version": "11.0.16+8-post-Ubuntu-0ubuntu120.04"
  },
  "orig_nbformat": 4,
  "vscode": {
   "interpreter": {
    "hash": "916dbcbb3f70747c44a77c7bcd40155683ae19c65e1c03b4aa3499c5328201f1"
   }
  }
 },
 "nbformat": 4,
 "nbformat_minor": 2
}
