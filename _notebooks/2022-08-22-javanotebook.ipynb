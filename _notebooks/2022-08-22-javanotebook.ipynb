{
 "cells": [
  {
   "cell_type": "markdown",
   "metadata": {},
   "source": [
    "# Java Notebook\n",
    "toc: false\n",
    "layout: post\n",
    "description: Record of Java projects\n",
    "categories: [markdown]\n",
    "title: Java Notebook"
   ]
  },
  {
   "cell_type": "code",
   "execution_count": null,
   "metadata": {
    "vscode": {
     "languageId": "java"
    }
   },
   "outputs": [],
   "source": [
    "public class Converter {\n",
    "    public static void main(String[] args) {\n",
    "        double dollar = 1.0;\n",
    "        double euro = 1.002985;\n",
    "        double peso = 19.92457;\n",
    "        double pound = 0.84485;\n",
    "        double yen = 136.45;\n",
    "        System.out.println(dollar);\n",
    "        System.out.println(euro);\n",
    "        System.out.println(peso);\n",
    "        System.out.println(pound);\n",
    "        System.out.println(yen);\n",
    "    }    \n",
    "}\n",
    "Converter.main(null);"
   ]
  },
  {
   "cell_type": "code",
   "execution_count": 9,
   "metadata": {
    "vscode": {
     "languageId": "java"
    }
   },
   "outputs": [
    {
     "name": "stdout",
     "output_type": "stream",
     "text": [
      "What is your name? \n",
      "Hello Gabriel. Welcome to our currency converter.\n",
      "What currency would like to convert? \n",
      "What would you like to convert it to? \n",
      "How many pounds are you converting? \n",
      "5000 pounds is equal to 5934.79 euros\n"
     ]
    }
   ],
   "source": [
    "import java.math.BigDecimal;\n",
    "import java.math.RoundingMode;\n",
    "import java.util.Scanner;\n",
    "\n",
    "public class Converter {\n",
    "    public static void main(String[] args) {\n",
    "        Scanner input;\n",
    "        HashMap<String, Double> converter = new HashMap<String, Double>();\n",
    "        converter.put(\"dollar\", 1.0);\n",
    "        converter.put(\"euro\", 1.0029);\n",
    "        converter.put(\"peso\", .0502);\n",
    "        converter.put(\"pound\", 1.1904);\n",
    "        converter.put(\"yen\", .0073);\n",
    "        \n",
    "        \n",
    "        double dollar = 1.0;\n",
    "        double euro = 1.002985;\n",
    "        double peso = 19.92457;\n",
    "        double pound = 0.84485;\n",
    "        double yen = 136.45;\n",
    "        int amountOfCurrency = 0;\n",
    "        String first = \"0\";\n",
    "        String second = \"0\";\n",
    "        \n",
    "        input =  new Scanner(System.in);\n",
    "        System.out.println(\"What is your name? \");\n",
    "        try {\n",
    "            String name = input.nextLine();\n",
    "            System.out.println( \"Hello \" + name + \". Welcome to our currency converter.\");\n",
    "        } catch (Exception e) { // this may never happen\n",
    "            System.out.println(e + \" is not a name.\");\n",
    "        }\n",
    "        input.close();\n",
    "        \n",
    "        input =  new Scanner(System.in);\n",
    "        System.out.println(\"What currency would like to convert? \");\n",
    "        try {\n",
    "            first = input.nextLine();\n",
    "            \n",
    "        } catch (Exception e) { // this may never happen\n",
    "            System.out.println(e + \" is not a name.\");\n",
    "        }\n",
    "        input.close();\n",
    "\n",
    "        input =  new Scanner(System.in);\n",
    "        System.out.println(\"What would you like to convert it to? \");\n",
    "        try {\n",
    "            second = input.nextLine();\n",
    "            \n",
    "        } catch (Exception e) { // this may never happen\n",
    "            System.out.println(e + \" is not a name.\");\n",
    "        }\n",
    "        input.close();\n",
    "\n",
    "        input = new Scanner(System.in);\n",
    "        System.out.println(\"How many \" + first + \"s are you converting? \");\n",
    "        try {\n",
    "            amountOfCurrency = input.nextInt();\n",
    "        } catch (Exception e) {  // if not an integer\n",
    "            System.out.println(\"Please enter a whole number\" + e);\n",
    "        }\n",
    "        input.close();\n",
    "\n",
    "        double first1 = converter.get(first);\n",
    "        double second1 = converter.get(second);\n",
    "        double output = ((amountOfCurrency * first1) / second1);\n",
    "        BigDecimal bd = new BigDecimal(output).setScale(2, RoundingMode.HALF_UP);\n",
    "        double outputRounded = bd.doubleValue();\n",
    "\n",
    "        System.out.println(amountOfCurrency + \" \" + first + \"s is equal to \" + outputRounded + \" \" + second + \"s\");\n",
    "    }    \n",
    "}\n",
    "Converter.main(null);"
   ]
  }
 ],
 "metadata": {
  "kernelspec": {
   "display_name": "Java",
   "language": "java",
   "name": "java"
  },
  "language_info": {
   "codemirror_mode": "java",
   "file_extension": ".jshell",
   "mimetype": "text/x-java-source",
   "name": "Java",
   "pygments_lexer": "java",
   "version": "11.0.16+8-post-Ubuntu-0ubuntu120.04"
  },
  "orig_nbformat": 4,
  "vscode": {
   "interpreter": {
    "hash": "916dbcbb3f70747c44a77c7bcd40155683ae19c65e1c03b4aa3499c5328201f1"
   }
  }
 },
 "nbformat": 4,
 "nbformat_minor": 2
}
