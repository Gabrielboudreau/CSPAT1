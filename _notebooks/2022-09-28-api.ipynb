{
 "cells": [
  {
   "cell_type": "markdown",
   "metadata": {},
   "source": [
    "# Api\n",
    "toc: false\n",
    "layout: post\n",
    "catagories: [PBL]\n",
    "title: Api"
   ]
  },
  {
   "cell_type": "code",
   "execution_count": 11,
   "metadata": {},
   "outputs": [],
   "source": [
    "%maven org.json:json:20220924\n",
    "import java.net.URI;\n",
    "import java.net.http.HttpClient;\n",
    "import java.net.http.HttpRequest;\n",
    "import java.net.http.HttpResponse;\n",
    "import java.util.Scanner;\n",
    "public class Income {\n",
    "    public static void main(String[] args) throws IOException, InterruptedException {\n",
    "        HttpRequest request = HttpRequest.newBuilder()\n",
    "\t\t.uri(URI.create(\"https://stock-data3.p.rapidapi.com/AAPL\"))\n",
    "\t\t.header(\"X-RapidAPI-Key\", \"ecb94c2f04msh8b91e6975ba00b9p1028a2jsnd5f3f3bfd1fe\")\n",
    "\t\t.header(\"X-RapidAPI-Host\", \"stock-data3.p.rapidapi.com\")\n",
    "\t\t.method(\"GET\", HttpRequest.BodyPublishers.noBody())\n",
    "\t\t.build();\n",
    "HttpResponse<String> response = HttpClient.newHttpClient().send(request, HttpResponse.BodyHandlers.ofString());\n",
    "System.out.println(response.body());\n",
    "    }\n",
    "}\n"
   ]
  },
  {
   "cell_type": "code",
   "execution_count": 12,
   "metadata": {},
   "outputs": [
    {
     "name": "stdout",
     "output_type": "stream",
     "text": [
      "{\"Index\":\"DJIA S&P500\",\"P\\/E\":\"22.84\",\"EPS (ttm)\":\"6.05\",\"Insider Own\":\"0.07%\",\"Shs Outstand\":\"16.16B\",\"Perf Week\":\"-8.13%\",\"Market Cap\":\"2289.76B\",\"Forward P\\/E\":\"21.38\",\"EPS next Y\":\"5.86%\",\"Insider Trans\":\"-2.44%\",\"Shs Float\":\"16.06B\",\"Perf Month\":\"-12.10%\",\"Income\":\"99.63B\",\"PEG\":\"2.41\",\"EPS next Q\":\"2.13\",\"Inst Own\":\"59.90%\",\"Short Float\":\"0.72%\",\"Perf Quarter\":\"-0.53%\",\"Sales\":\"387.54B\",\"P\\/S\":\"5.91\",\"EPS this Y\":\"71.40%\",\"Inst Trans\":\"-0.45%\",\"Short Ratio\":\"1.48\",\"Perf Half Y\":\"-20.85%\",\"Book\\/sh\":\"3.60\",\"P\\/B\":\"38.39\",\"ROA\":\"28.10%\",\"Target Price\":\"183.50\",\"Perf Year\":\"-2.33%\",\"Cash\\/sh\":\"2.91\",\"P\\/C\":\"47.47\",\"EPS next 5Y\":\"9.48%\",\"ROE\":\"153.00%\",\"52W Range\":\"129.04 - 182.94\",\"Perf YTD\":\"-22.17%\",\"Dividend\":\"0.92\",\"P\\/FCF\":\"24.67\",\"EPS past 5Y\":\"22.00%\",\"ROI\":\"50.00%\",\"52W High\":\"-24.46%\",\"Beta\":\"1.25\",\"Dividend %\":\"0.67%\",\"Quick Ratio\":\"0.80\",\"Sales past 5Y\":\"11.10%\",\"Gross Margin\":\"43.30%\",\"52W Low\":\"7.10%\",\"ATR\":\"4.92\",\"Employees\":\"154000\",\"Current Ratio\":\"0.90\",\"Sales Q\\/Q\":\"1.90%\",\"Oper. Margin\":\"30.50%\",\"RSI (14)\":\"28.54\",\"Volatility\":\"3.59% 2.94%\",\"Optionable\":\"Yes\",\"Debt\\/Eq\":\"2.06\",\"EPS Q\\/Q\":\"-7.70%\",\"Profit Margin\":\"25.70%\",\"Rel Volume\":\"1.58\",\"Prev Close\":\"142.48\",\"Shortable\":\"Yes\",\"LT Debt\\/Eq\":\"1.63\",\"Earnings\":\"Oct 27 AMC\",\"Payout\":\"14.60%\",\"Avg Volume\":\"78.38M\",\"Price\":\"138.20\",\"Recom\":\"1.90\",\"SMA20\":\"-10.11%\",\"SMA50\":\"-13.67%\",\"SMA200\":\"-13.65%\",\"Volume\":\"124,206,869\",\"Change\":\"-3.00%\"}\n"
     ]
    }
   ],
   "source": [
    "Income.main(null);"
   ]
  }
 ],
 "metadata": {
  "kernelspec": {
   "display_name": "Java",
   "language": "java",
   "name": "java"
  },
  "language_info": {
   "codemirror_mode": "java",
   "file_extension": ".jshell",
   "mimetype": "text/x-java-source",
   "name": "java",
   "pygments_lexer": "java",
   "version": "11.0.16+8-post-Ubuntu-0ubuntu120.04"
  },
  "orig_nbformat": 4,
  "vscode": {
   "interpreter": {
    "hash": "916dbcbb3f70747c44a77c7bcd40155683ae19c65e1c03b4aa3499c5328201f1"
   }
  }
 },
 "nbformat": 4,
 "nbformat_minor": 2
}
