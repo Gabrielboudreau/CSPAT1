{
 "cells": [
  {
   "cell_type": "markdown",
   "metadata": {},
   "source": []
  },
  {
   "cell_type": "code",
   "execution_count": 49,
   "metadata": {},
   "outputs": [],
   "source": [
    "public class main {\n",
    "    public static void add(int a, int b){\n",
    "        System.out.println(a + b);\n",
    "    }\n",
    "}"
   ]
  },
  {
   "cell_type": "code",
   "execution_count": 53,
   "metadata": {},
   "outputs": [
    {
     "name": "stdout",
     "output_type": "stream",
     "text": [
      "1\n",
      "3\n"
     ]
    }
   ],
   "source": [
    "import java.util.Scanner;\n",
    "public class main1 extends main {\n",
    "\n",
    "//Basic Scanner, input for \n",
    "\n",
    "    public static void main(String[] args){\n",
    "        int a = 1;\n",
    "        Scanner sc = new Scanner(System.in);\n",
    "        String scanned = sc.next();\n",
    "        System.out.println(scanned);\n",
    "        add(1,2);\n",
    "        \n",
    "    }\n",
    "}\n",
    "main1.main(null);"
   ]
  },
  {
   "cell_type": "code",
   "execution_count": null,
   "metadata": {},
   "outputs": [],
   "source": [
    "// Basic Practice using methods\n",
    "\n",
    "//inefficient soloution\n",
    "int c = 9; \n",
    "int d = 5;\n",
    "System.out.println(c * d);\n",
    "int e = 3; \n",
    "int f = 8; \n",
    "System.out.println(e * f);\n",
    "\n",
    "//use of method, no need for variable\n",
    "efficient(10, 30);\n",
    "//use of method, no need for print\n",
    "efficient(c, f);\n",
    "\n",
    "\n",
    "\n",
    "public static void efficient(int i, int j) {\n",
    "    System.out.println(i * j);\n",
    "}\n"
   ]
  },
  {
   "cell_type": "code",
   "execution_count": null,
   "metadata": {},
   "outputs": [],
   "source": [
    "// object\n",
    "Public class number{\n",
    "    number a = new number();\n",
    "    number b = new number();\n",
    "    number.color; \n",
    "    String numberColor = number.color;\n",
    "    a.getTally();\n",
    "    int numberTally = a.getTally();\n",
    "}"
   ]
  },
  {
   "cell_type": "code",
   "execution_count": 99,
   "metadata": {},
   "outputs": [],
   "source": [
    "//Practice of constructors, see next page\n",
    "public class Shirt {\n",
    "    public static String Color;\n",
    "    public static String Size;\n",
    "    Shirt(){}\n",
    "\n",
    "    Shirt(String newColor, String newSize) {\n",
    "        Color = newColor;\n",
    "        Size = newSize; \n",
    "    }\n",
    "    public static void p(String a){\n",
    "        System.out.println(a);\n",
    "    }\n",
    "    public static void putOn() {\n",
    "        p(\"shirt is on\");\n",
    "    }\n",
    "    public static void takeOff() {\n",
    "        p(\"shirt is off\");\n",
    "    }\n",
    "    public static void setColor(String newColor) {\n",
    "        Color = newColor; \n",
    "    }\n",
    "    public static void setSize(String newSize) {\n",
    "        Size = newSize; \n",
    "    }\n",
    "}"
   ]
  },
  {
   "cell_type": "code",
   "execution_count": 101,
   "metadata": {},
   "outputs": [
    {
     "name": "stdout",
     "output_type": "stream",
     "text": [
      "white\n",
      "m\n"
     ]
    }
   ],
   "source": [
    "//practice of constructors continued\n",
    "public class base extends Shirt{\n",
    "    public static void main(String[] args){\n",
    "        Shirt s = new Shirt(\"white\", \"m\");\n",
    "        p(s.Color);\n",
    "        p(s.Size);\n",
    "\n",
    "        //Scanner scan = new Scanner(); , constructors for scanner\n",
    "    }\n",
    "}\n",
    "base.main(null);"
   ]
  },
  {
   "cell_type": "code",
   "execution_count": 80,
   "metadata": {},
   "outputs": [
    {
     "name": "stdout",
     "output_type": "stream",
     "text": [
      "hello\n"
     ]
    }
   ],
   "source": [
    "//Ease of use, simplify print\n",
    "\n",
    "public class tester{\n",
    "    public static void main(String[] args){\n",
    "        tester();\n",
    "    }\n",
    "    public static void tester(){\n",
    "        p(\"hello\");\n",
    "    }\n",
    "    public static void p(String a){\n",
    "        \n",
    "        System.out.println(a);\n",
    "    }\n",
    "\n",
    "}\n",
    "tester.main(null);"
   ]
  },
  {
   "cell_type": "code",
   "execution_count": null,
   "metadata": {},
   "outputs": [],
   "source": []
  }
 ],
 "metadata": {
  "kernelspec": {
   "display_name": "Java",
   "language": "java",
   "name": "java"
  },
  "language_info": {
   "codemirror_mode": "java",
   "file_extension": ".jshell",
   "mimetype": "text/x-java-source",
   "name": "java",
   "pygments_lexer": "java",
   "version": "11.0.16+8-post-Ubuntu-0ubuntu120.04"
  },
  "orig_nbformat": 4
 },
 "nbformat": 4,
 "nbformat_minor": 2
}
