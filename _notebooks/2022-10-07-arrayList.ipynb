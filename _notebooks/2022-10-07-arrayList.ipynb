{
 "cells": [
  {
   "cell_type": "code",
   "execution_count": 56,
   "metadata": {
    "vscode": {
     "languageId": "java"
    }
   },
   "outputs": [
    {
     "name": "stdout",
     "output_type": "stream",
     "text": [
      "Add element: [8.0, 4.0, 3.0]\n",
      "Add: [8.0, 4.0, 3.0, 10.0]\n",
      "Remove element: [8.0, 4.0, 10.0]\n",
      "The size of the list is: 3.0\n",
      "Has 9: false\n",
      "The median of the list is 4.0\n",
      "The mean value of the list is: 7.333333333333333\n",
      "Sorted list [4.0, 8.0, 10.0]\n"
     ]
    }
   ],
   "source": [
    "import java.util.*;\n",
    "\n",
    "class array {\n",
    "\n",
    "    public static void main(String args[]) {\n",
    "\n",
    "        ArrayList<Double> numbers = new ArrayList<>(); \n",
    "        numbers.add (8.0);\n",
    "        numbers.add (4.0);\n",
    "        numbers.add (3.0);\n",
    "        System.out.println(\"Add element: \" + numbers);\n",
    "        numbers.add(3, 10.0);\n",
    "        System.out.println(\"Add: \" + numbers);\n",
    "        numbers.remove(new Double(3));\n",
    "        System.out.println(\"Remove element: \" + numbers);\n",
    "        double size = numbers.size();\n",
    "        System.out.println(\"The size of the list is: \" + size);\n",
    "        System.out.println(\"Has 9: \" + numbers.contains(9));\n",
    "        double middle = 0;\n",
    "        if(numbers.size() %2 == 0) {\n",
    "            middle = (numbers.get(numbers.size()/2 - 1) + numbers.get(numbers.size()/2-3)/2);\n",
    "            System.out.println(\"The median of the list is \" + middle);\n",
    "        }\n",
    "        else {\n",
    "            middle = numbers.get(numbers.size() / 2);\n",
    "            System.out.println(\"The median of the list is \" + middle);\n",
    "        }        \n",
    "        double sum = 0;\n",
    "        for (Double i: numbers) {\n",
    "            sum = sum + i;\n",
    "        }\n",
    "        double mean = sum/numbers.size();\n",
    "        System.out.println(\"The mean value of the list is: \" + mean);\n",
    "        Comparator<Double> comparator = new Comparator<Double>() {\n",
    "\n",
    "            @Override\n",
    "            public int compare(Double numbers, Double numbers1) {\n",
    "                if (numbers > numbers1 )\n",
    "                {\n",
    "                    return 1;\n",
    "                }\n",
    "                else if (numbers < numbers1)\n",
    "                {\n",
    "                    return -1;\n",
    "                }\n",
    "                else \n",
    "                {\n",
    "                    return 0;\n",
    "                }\n",
    "\n",
    "            }\n",
    "        };\n",
    "        numbers.sort(comparator);\n",
    "        System.out.println(\"Sorted list \" + numbers);\n",
    "    }\n",
    "\n",
    "}\n",
    "\n",
    "array.main(null)"
   ]
  },
  {
   "cell_type": "markdown",
   "metadata": {},
   "source": []
  }
 ],
 "metadata": {
  "kernelspec": {
   "display_name": "Java",
   "language": "java",
   "name": "java"
  },
  "language_info": {
   "codemirror_mode": "java",
   "file_extension": ".jshell",
   "mimetype": "text/x-java-source",
   "name": "Java",
   "pygments_lexer": "java",
   "version": "11.0.16+8-post-Ubuntu-0ubuntu120.04"
  },
  "orig_nbformat": 4
 },
 "nbformat": 4,
 "nbformat_minor": 2
}
